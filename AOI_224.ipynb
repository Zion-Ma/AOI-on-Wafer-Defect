{
  "nbformat": 4,
  "nbformat_minor": 0,
  "metadata": {
    "colab": {
      "name": "AOI_224",
      "private_outputs": true,
      "provenance": [],
      "collapsed_sections": []
    },
    "kernelspec": {
      "name": "python3",
      "display_name": "Python 3"
    },
    "language_info": {
      "name": "python"
    },
    "accelerator": "GPU"
  },
  "cells": [
    {
      "cell_type": "code",
      "metadata": {
        "id": "lnA1dm8z-rcF"
      },
      "source": [
        "from google.colab import drive\n",
        "drive.mount('/content/drive')"
      ],
      "execution_count": null,
      "outputs": []
    },
    {
      "cell_type": "code",
      "metadata": {
        "id": "ed2gD78M-sPO"
      },
      "source": [
        "# !unzip '/content/drive/MyDrive/Programming(II)/Lesson13_AOIDemo/aoi.zip'\n",
        "drive_path = '/content/drive/MyDrive/2021-spring-programming lab'"
      ],
      "execution_count": null,
      "outputs": []
    },
    {
      "cell_type": "code",
      "metadata": {
        "id": "MoUfkk_yAIKd"
      },
      "source": [
        "!unzip '/content/drive/MyDrive/2021-spring-programming lab/aoi/test_images.zip'"
      ],
      "execution_count": null,
      "outputs": []
    },
    {
      "cell_type": "code",
      "metadata": {
        "id": "OeI6Dhu__vTE"
      },
      "source": [
        "from pandas import read_csv\n",
        "import pandas as pd\n",
        "# load file as CSV\n",
        "from sklearn.preprocessing import LabelBinarizer\n",
        "import numpy\n",
        "import numpy as np\n",
        "filename = '/content/drive/MyDrive/2021-spring-programming lab/aoi/train.csv'\n",
        "mapping1_csv = read_csv(filename,encoding=\"Big5\")\n",
        "filename = '/content/drive/MyDrive/2021-spring-programming lab/aoi/test.csv'\n",
        "mapping2_csv = read_csv(filename,encoding=\"Big5\")\n",
        "mapping1_csv = mapping1_csv.values.tolist()\n",
        "mapping2_csv = mapping2_csv.values.tolist()"
      ],
      "execution_count": null,
      "outputs": []
    },
    {
      "cell_type": "code",
      "metadata": {
        "id": "6hjoBl5BAf8r"
      },
      "source": [
        "print(type(mapping1_csv))\n",
        "print(len(mapping1_csv))\n",
        "print(mapping1_csv[0])\n",
        "print(mapping2_csv[0])"
      ],
      "execution_count": null,
      "outputs": []
    },
    {
      "cell_type": "code",
      "metadata": {
        "id": "3AmNlNy3BeNv"
      },
      "source": [
        "import cv2\n",
        "import os\n",
        "from PIL import Image\n",
        "from numpy import savez_compressed\n",
        "from numpy import asarray\n",
        "\n",
        "def load_dataset(directory,mapping_csv):\n",
        "    X= list()\n",
        "    data = []\n",
        "    i=0\n",
        "    # loop over the image paths\n",
        "    for imagePath, label in mapping_csv:\n",
        "        image = Image.open(directory + imagePath)\n",
        "        image = image.convert('RGB')\n",
        "        image = image.resize((224,224))\n",
        "        image = asarray(image)\n",
        "        data.append(image)\n",
        "    # convert the data and labels to NumPy arrays while scaling the pixel\n",
        "    # perform one-hot encoding on the labels\n",
        "    from keras import utils as np_utils\n",
        "    X.extend(data)\n",
        "    return asarray(X)"
      ],
      "execution_count": null,
      "outputs": []
    },
    {
      "cell_type": "code",
      "metadata": {
        "id": "9ZMLSZmfAyn7"
      },
      "source": [
        "testX= load_dataset('test_images/',mapping2_csv)\n",
        "print(testX.shape)"
      ],
      "execution_count": null,
      "outputs": []
    },
    {
      "cell_type": "code",
      "metadata": {
        "id": "V5Hv1ncKRZkv"
      },
      "source": [
        "import tensorflow as tf\n",
        "model = tf.keras.models.load_model('/content/drive/MyDrive/2021-spring-programming lab/model_VGG16_fine_tune.h5')"
      ],
      "execution_count": null,
      "outputs": []
    },
    {
      "cell_type": "code",
      "metadata": {
        "id": "qMSjSZ32CHGN"
      },
      "source": [
        "y_pred=model.predict(testX)\n",
        "y_pred"
      ],
      "execution_count": null,
      "outputs": []
    },
    {
      "cell_type": "code",
      "metadata": {
        "id": "1ax4Qmw4_knZ"
      },
      "source": [
        "test_result=[]\n",
        "for pred in y_pred:\n",
        "  test_result.append(np.argmax(pred))\n",
        "test_result=np.array(test_result).reshape(-1,1)\n",
        "test_result.shape"
      ],
      "execution_count": null,
      "outputs": []
    },
    {
      "cell_type": "code",
      "metadata": {
        "id": "HuJsq-X-R28n"
      },
      "source": [
        "df_test=pd.read_csv('/content/drive/MyDrive/2021-spring-programming lab/aoi/test.csv')\n",
        "df_test['Label']=test_result\n",
        "df_test"
      ],
      "execution_count": null,
      "outputs": []
    },
    {
      "cell_type": "code",
      "metadata": {
        "id": "H1qTGIqyvHO9"
      },
      "source": [
        "df_test.to_csv('final_5.csv',index=None)"
      ],
      "execution_count": null,
      "outputs": []
    },
    {
      "cell_type": "code",
      "metadata": {
        "id": "yJI8ceL0vSyA"
      },
      "source": [
        ""
      ],
      "execution_count": null,
      "outputs": []
    }
  ]
}